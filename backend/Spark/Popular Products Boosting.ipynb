{
 "cells": [
  {
   "cell_type": "markdown",
   "metadata": {},
   "source": [
    "### Popular products for a particular query"
   ]
  },
  {
   "cell_type": "code",
   "execution_count": null,
   "metadata": {},
   "outputs": [],
   "source": [
    "#imports\n",
    "import findspark\n",
    "import pandas as pd\n",
    "findspark.init()\n",
    "findspark.find()\n",
    "from pyspark.sql import SparkSession\n",
    "spark = SparkSession.builder.appName(\"Popular Relevance\").getOrCreate()"
   ]
  },
  {
   "cell_type": "code",
   "execution_count": 2,
   "metadata": {},
   "outputs": [],
   "source": [
    "#load csv file\n",
    "csvFile = \"../retrotech/signals.csv\"\n",
    "csvDF = spark.read.format(\"csv\").option(\"header\", \"true\").load(csvFile)\n",
    "csvDF.createOrReplaceTempView(\"signals\")"
   ]
  },
  {
   "cell_type": "code",
   "execution_count": 3,
   "metadata": {},
   "outputs": [],
   "source": [
    "#get the popular products for a particular query\n",
    "signals_aggregation_query = \"\"\"\n",
    "select lower(q.target) as query, c.target as doc, count(c.target) as boost\n",
    "  from signals c left join signals q on c.query_id = q.query_id\n",
    "  where c.type = 'click' AND q.type = 'query'\n",
    "  group by query, doc\n",
    "  order by boost desc\n",
    "\"\"\"\n",
    "res=spark.sql(signals_aggregation_query)\n",
    "res.coalesce(1).write.format(\"csv\").option(\"header\", \"false\").save(\"signals\")"
   ]
  },
  {
   "cell_type": "markdown",
   "metadata": {},
   "source": [
    "### Create Judgment list from the signals data"
   ]
  },
  {
   "cell_type": "code",
   "execution_count": 7,
   "metadata": {},
   "outputs": [],
   "source": [
    "query_aggregation = \"\"\"\n",
    "select q.query_id,lower(q.target) from signals q where q.type = 'query' \n",
    "\"\"\"\n",
    "res=spark.sql(query_aggregation)\n",
    "res.coalesce(1).write.format(\"csv\").option(\"header\", \"false\").save(\"queries\")"
   ]
  },
  {
   "cell_type": "code",
   "execution_count": 23,
   "metadata": {},
   "outputs": [],
   "source": [
    "df = pd.read_csv('C:/Users/KrishnaS/Desktop/Projects/retro/backend/queries/part-00000-1d030a3a-1355-467b-9cb7-7b4d40a6dc0e-c000.csv', sep=',', header=None)\n",
    "#adding the qid column\n",
    "df['qid'] = 'qid: ' + df.index.astype(str)\n",
    "df.head()\n",
    "#save the data as a csv file\n",
    "df.to_csv('query.csv',index=False)"
   ]
  },
  {
   "cell_type": "code",
   "execution_count": 22,
   "metadata": {},
   "outputs": [],
   "source": [
    "df= pd.read_csv('C:/Users/KrishnaS/Desktop/Projects/retro/retrotech/judgmentlist.csv',sep=',', header=None)\n",
    "#filtering out signals that are not queries\n",
    "df =df[df[2] !='query']\n",
    "#save the data to jl.csv\n",
    "df.to_csv('jl.csv',index=False)"
   ]
  },
  {
   "cell_type": "code",
   "execution_count": 2,
   "metadata": {},
   "outputs": [],
   "source": [
    "#import both query.csv and jl.csv file and create views\n",
    "csvFile = \"query.csv\"\n",
    "csvDF = spark.read.format(\"csv\").option(\"header\", \"true\").load(csvFile)\n",
    "csvDF.createOrReplaceTempView(\"query\")\n",
    "csvFile = \"jl.csv\"\n",
    "csvDF = spark.read.format(\"csv\").option(\"header\", \"true\").load(csvFile)\n",
    "csvDF.createOrReplaceTempView(\"jl\")"
   ]
  },
  {
   "cell_type": "code",
   "execution_count": 3,
   "metadata": {},
   "outputs": [],
   "source": [
    "#join two view to get the output\n",
    "judgement_build_query = \"\"\"\n",
    "select j.type, q.qid, j.target, q.query\n",
    "from jl j left join query q on q.query_id = j.query_id\n",
    "\"\"\"\n",
    "res=spark.sql(judgement_build_query)\n",
    "res.coalesce(1).write.format(\"csv\").option(\"header\", \"true\").save(\"judgementlist\")"
   ]
  }
 ],
 "metadata": {
  "kernelspec": {
   "display_name": "Python 3",
   "language": "python",
   "name": "python3"
  },
  "language_info": {
   "codemirror_mode": {
    "name": "ipython",
    "version": 3
   },
   "file_extension": ".py",
   "mimetype": "text/x-python",
   "name": "python",
   "nbconvert_exporter": "python",
   "pygments_lexer": "ipython3",
   "version": "3.7.9"
  }
 },
 "nbformat": 4,
 "nbformat_minor": 4
}
